{
 "cells": [
  {
   "cell_type": "code",
   "execution_count": 11,
   "metadata": {},
   "outputs": [
    {
     "name": "stdout",
     "output_type": "stream",
     "text": [
      "Writing ipynb_word_count.py\n"
     ]
    }
   ],
   "source": [
    "%%writefile ipynb_word_count.py\n",
    "# From http://mrjob.readthedocs.org/en/latest/guides/quickstart.html#writing-your-first-job\n",
    "\n",
    "from mrjob.job import MRJob\n",
    "\n",
    "\n",
    "class MRWordFrequencyCount(MRJob):\n",
    "\n",
    "    def mapper(self, _, line):\n",
    "        yield \"chars\", len(line)\n",
    "        yield \"words\", len(line.split())\n",
    "        yield \"lines\", 1\n",
    "\n",
    "    def reducer(self, key, values):\n",
    "        yield key, sum(values)\n",
    "\n",
    "\n",
    "if __name__ == '__main__':\n",
    "    MRWordFrequencyCount.run()\n"
   ]
  },
  {
   "cell_type": "code",
   "execution_count": 12,
   "metadata": {},
   "outputs": [
    {
     "name": "stdout",
     "output_type": "stream",
     "text": [
      "/usr/local/Cellar/python/3.7.3/Frameworks/Python.framework/Versions/3.7/Resources/Python.app/Contents/MacOS/Python: can't open file 'ipynbword_count.py': [Errno 2] No such file or directory\r\n"
     ]
    }
   ],
   "source": [
    "!python ipynbword_count.py -r local ./data/*.txt"
   ]
  },
  {
   "cell_type": "code",
   "execution_count": 13,
   "metadata": {},
   "outputs": [
    {
     "name": "stdout",
     "output_type": "stream",
     "text": [
      "No configs found; falling back on auto-configuration\n",
      "No configs specified for local runner\n",
      "Creating temp directory /var/folders/3g/kpbx6md97b74_076lhbnbvt00000gn/T/ipynb_word_count.jalal.20190413.141212.654461\n",
      "Running step 1 of 1...\n",
      "job output is in /var/folders/3g/kpbx6md97b74_076lhbnbvt00000gn/T/ipynb_word_count.jalal.20190413.141212.654461/output\n",
      "Streaming final output from /var/folders/3g/kpbx6md97b74_076lhbnbvt00000gn/T/ipynb_word_count.jalal.20190413.141212.654461/output...\n",
      "\"words\"\t303648\n",
      "\"lines\"\t33239\n",
      "\"chars\"\t1689264\n",
      "Removing temp directory /var/folders/3g/kpbx6md97b74_076lhbnbvt00000gn/T/ipynb_word_count.jalal.20190413.141212.654461...\n"
     ]
    }
   ],
   "source": [
    "!python3 ipynb_word_count.py -r local ./data/*.txt"
   ]
  },
  {
   "cell_type": "code",
   "execution_count": 14,
   "metadata": {},
   "outputs": [
    {
     "name": "stdout",
     "output_type": "stream",
     "text": [
      "No configs found; falling back on auto-configuration\n",
      "No configs specified for local runner\n",
      "Creating temp directory /var/folders/3g/kpbx6md97b74_076lhbnbvt00000gn/T/ipynb_word_count.jalal.20190413.141245.367484\n",
      "Running step 1 of 1...\n",
      "job output is in ipynb_word_count_out\n",
      "Removing temp directory /var/folders/3g/kpbx6md97b74_076lhbnbvt00000gn/T/ipynb_word_count.jalal.20190413.141245.367484...\n"
     ]
    }
   ],
   "source": [
    "!python3 ipynb_word_count.py -r local ./data/*.txt --output-dir=ipynb_word_count_out --no-output"
   ]
  },
  {
   "cell_type": "code",
   "execution_count": null,
   "metadata": {},
   "outputs": [],
   "source": []
  }
 ],
 "metadata": {
  "kernelspec": {
   "display_name": "Python 3",
   "language": "python",
   "name": "python3"
  },
  "language_info": {
   "codemirror_mode": {
    "name": "ipython",
    "version": 3
   },
   "file_extension": ".py",
   "mimetype": "text/x-python",
   "name": "python",
   "nbconvert_exporter": "python",
   "pygments_lexer": "ipython3",
   "version": "3.7.3"
  }
 },
 "nbformat": 4,
 "nbformat_minor": 2
}
