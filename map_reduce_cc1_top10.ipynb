{
 "cells": [
  {
   "cell_type": "code",
   "execution_count": 7,
   "metadata": {},
   "outputs": [
    {
     "name": "stdout",
     "output_type": "stream",
     "text": [
      "Overwriting ipynb_map_reduce_cc1_top10.py\n"
     ]
    }
   ],
   "source": [
    "%%writefile ipynb_map_reduce_cc1_top10.py\n",
    "\"\"\"The classic MapReduce job: count the frequency of words.\n",
    "\"\"\"\n",
    "from mrjob.job import MRJob\n",
    "from mrjob.step import MRStep\n",
    "import re\n",
    "\n",
    "WORD_RE = re.compile(r\"[\\w']+\")\n",
    "ALPHABET_RE = re.compile(r\"[a-zA-Z]\")\n",
    "\n",
    "class MRCC1TOP10(MRJob):\n",
    "    \n",
    "    def steps(self):\n",
    "        return [\n",
    "            MRStep(mapper=self.mapper_get_words,\n",
    "                   combiner=self.combiner_count_words,\n",
    "                   reducer=self.reducer_count_words),\n",
    "            MRStep(reducer=self.reducer_find_max_word)\n",
    "        ]\n",
    "    \n",
    "    def mapper_get_words(self, _, line):\n",
    "        the_line = WORD_RE.findall(line)\n",
    "        for key, value in enumerate(the_line):\n",
    "            if (value == \"my\" and (key + 1 < len(the_line))):\n",
    "                yield (value + \",\" + the_line[key+1].lower(), 1)\n",
    "\n",
    "    def combiner_count_words(self, value, counts):\n",
    "        yield (value, sum(counts))\n",
    "\n",
    "    def reducer_count_words(self, value, counts):\n",
    "        #yield (value, sum(counts))\n",
    "        yield None, (sum(counts), value)\n",
    "    \n",
    "    def reducer_find_max_word(self, _, word_count_pairs):\n",
    "        # each item of word_count_pairs is (count, word),\n",
    "        # so yielding one results in key=counts, value=word\n",
    "        yield max(word_count_pairs)\n",
    "        \n",
    "\n",
    "if __name__ == '__main__':\n",
    "    MRCC1TOP10.run()\n"
   ]
  },
  {
   "cell_type": "code",
   "execution_count": 8,
   "metadata": {},
   "outputs": [
    {
     "name": "stdout",
     "output_type": "stream",
     "text": [
      "No configs found; falling back on auto-configuration\n",
      "No configs specified for local runner\n",
      "Creating temp directory /var/folders/3g/kpbx6md97b74_076lhbnbvt00000gn/T/ipynb_map_reduce_cc1_top10.jalal.20190413.174011.094463\n",
      "Running step 1 of 2...\n",
      "Running step 2 of 2...\n",
      "job output is in /var/folders/3g/kpbx6md97b74_076lhbnbvt00000gn/T/ipynb_map_reduce_cc1_top10.jalal.20190413.174011.094463/output\n",
      "Streaming final output from /var/folders/3g/kpbx6md97b74_076lhbnbvt00000gn/T/ipynb_map_reduce_cc1_top10.jalal.20190413.174011.094463/output...\n",
      "1311\t\"my,wife\"\n",
      "Removing temp directory /var/folders/3g/kpbx6md97b74_076lhbnbvt00000gn/T/ipynb_map_reduce_cc1_top10.jalal.20190413.174011.094463...\n"
     ]
    }
   ],
   "source": [
    "!python3 ipynb_map_reduce_cc1_top10.py -r local ./data/shortjokes.csv"
   ]
  },
  {
   "cell_type": "code",
   "execution_count": null,
   "metadata": {},
   "outputs": [],
   "source": []
  }
 ],
 "metadata": {
  "kernelspec": {
   "display_name": "Python 3",
   "language": "python",
   "name": "python3"
  },
  "language_info": {
   "codemirror_mode": {
    "name": "ipython",
    "version": 3
   },
   "file_extension": ".py",
   "mimetype": "text/x-python",
   "name": "python",
   "nbconvert_exporter": "python",
   "pygments_lexer": "ipython3",
   "version": "3.7.3"
  }
 },
 "nbformat": 4,
 "nbformat_minor": 2
}
