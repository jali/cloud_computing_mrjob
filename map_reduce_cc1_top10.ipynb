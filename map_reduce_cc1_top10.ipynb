{
 "cells": [
  {
   "cell_type": "code",
   "execution_count": 1,
   "metadata": {},
   "outputs": [
    {
     "name": "stdout",
     "output_type": "stream",
     "text": [
      "Overwriting ipynb_map_reduce_cc1_top10.py\n"
     ]
    }
   ],
   "source": [
    "%%writefile ipynb_map_reduce_cc1_top10.py\n",
    "\"\"\"The classic MapReduce job: count the frequency of words.\n",
    "\"\"\"\n",
    "from mrjob.job import MRJob\n",
    "import re\n",
    "\n",
    "WORD_RE = re.compile(r\"[\\w']+\")\n",
    "ALPHABET_RE = re.compile(r\"[a-zA-Z]\")\n",
    "\n",
    "class MRCC1TOP10(MRJob):\n",
    "    \n",
    "    def mapper(self, _, line):\n",
    "        the_line = WORD_RE.findall(line)\n",
    "        for key, value in enumerate(the_line):\n",
    "            if (value == \"my\" and (key + 1 < len(the_line))):\n",
    "                yield (value + \",\" + the_line[key+1].lower(), 1)\n",
    "\n",
    "    def combiner(self, value, counts):\n",
    "        yield (value, sum(counts))\n",
    "\n",
    "    def reducer(self, value, counts):\n",
    "        yield (value, sum(counts))\n",
    "        \n",
    "\n",
    "if __name__ == '__main__':\n",
    "    MRCC1TOP10.run()\n"
   ]
  },
  {
   "cell_type": "code",
   "execution_count": 2,
   "metadata": {},
   "outputs": [
    {
     "name": "stdout",
     "output_type": "stream",
     "text": [
      "No configs found; falling back on auto-configuration\n",
      "No configs specified for local runner\n",
      "Creating temp directory /var/folders/3g/kpbx6md97b74_076lhbnbvt00000gn/T/ipynb_map_reduce_cc1_top10.jalal.20190413.172554.553678\n",
      "Running step 1 of 1...\n",
      "job output is in ipynb_word_count_top10_out\n",
      "Removing temp directory /var/folders/3g/kpbx6md97b74_076lhbnbvt00000gn/T/ipynb_map_reduce_cc1_top10.jalal.20190413.172554.553678...\n"
     ]
    }
   ],
   "source": [
    "!python3 ipynb_map_reduce_cc1_top10.py -r local ./data/shortjokes.csv --output-dir=ipynb_word_count_top10_out --no-output"
   ]
  },
  {
   "cell_type": "code",
   "execution_count": null,
   "metadata": {},
   "outputs": [],
   "source": []
  }
 ],
 "metadata": {
  "kernelspec": {
   "display_name": "Python 3",
   "language": "python",
   "name": "python3"
  },
  "language_info": {
   "codemirror_mode": {
    "name": "ipython",
    "version": 3
   },
   "file_extension": ".py",
   "mimetype": "text/x-python",
   "name": "python",
   "nbconvert_exporter": "python",
   "pygments_lexer": "ipython3",
   "version": "3.7.3"
  }
 },
 "nbformat": 4,
 "nbformat_minor": 2
}
